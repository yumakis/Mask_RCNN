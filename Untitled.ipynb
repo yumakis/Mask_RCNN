{
 "cells": [
  {
   "cell_type": "code",
   "execution_count": null,
   "metadata": {},
   "outputs": [],
   "source": [
    "# example of inference with a pre-trained coco model\n",
    "import os\n",
    "from keras.preprocessing.image import load_img\n",
    "from keras.preprocessing.image import img_to_array\n",
    "from mrcnn.config import Config\n",
    "from mrcnn.model import MaskRCNN\n",
    "from matplotlib import pyplot\n",
    "from matplotlib.patches import Rectangle\n"
   ]
  },
  {
   "cell_type": "code",
   "execution_count": null,
   "metadata": {},
   "outputs": [],
   "source": [
    "# draw an image with detected objects\n",
    "def draw_image_with_boxes(filename, boxes_list):\n",
    "    pyplot.clf()\n",
    "    # load the image\n",
    "    data = pyplot.imread(DATADIR + filename)\n",
    "    # plot the image\n",
    "    pyplot.imshow(data)\n",
    "    # get the context for drawing boxes\n",
    "    ax = pyplot.gca()\n",
    "    # plot each box\n",
    "    for box in boxes_list:\n",
    "         # get coordinates\n",
    "         y1, x1, y2, x2 = box\n",
    "         # calculate width and height of the box\n",
    "         width, height = x2 - x1, y2 - y1\n",
    "         # create the shape\n",
    "         rect = Rectangle((x1, y1), width, height, fill=False, color='red')\n",
    "         # draw the box\n",
    "         ax.add_patch(rect)\n",
    "    # show the plot\n",
    "    # pyplot.show()\n",
    "    pyplot.axis('off')\n",
    "    pyplot.savefig(RESULTDIR + filename, bbox_inches='tight')\n",
    "\n",
    "# define the test configuration\n",
    "class TestConfig(Config):\n",
    "     NAME = \"test\"\n",
    "     GPU_COUNT = 1\n",
    "     IMAGES_PER_GPU = 1\n",
    "     NUM_CLASSES = 1 + 80\n",
    "\n",
    "\n",
    "\n",
    "DATADIR = \"./kitchen_images/\"\n",
    "RESULTDIR = \"./test_results/result_\"\n",
    "\n",
    "rcnn = MaskRCNN(mode='inference', model_dir = './', config=TestConfig())\n",
    "rcnn.load_weights('./mask_rcnn_coco.h5', by_name=True)\n",
    "\n",
    "for data in os.listdir(DATADIR):\n",
    "    img_name = DATADIR + data\n",
    "    img = load_img(img_name)\n",
    "    img = img_to_array(img)\n",
    "    results = rcnn.detect([img], verbose=0)\n",
    "    draw_image_with_boxes(data, results[0]['rois'])\n"
   ]
  }
 ],
 "metadata": {
  "kernelspec": {
   "display_name": "Python 3",
   "language": "python",
   "name": "python3"
  },
  "language_info": {
   "codemirror_mode": {
    "name": "ipython",
    "version": 3
   },
   "file_extension": ".py",
   "mimetype": "text/x-python",
   "name": "python",
   "nbconvert_exporter": "python",
   "pygments_lexer": "ipython3",
   "version": "3.6.7"
  }
 },
 "nbformat": 4,
 "nbformat_minor": 2
}
